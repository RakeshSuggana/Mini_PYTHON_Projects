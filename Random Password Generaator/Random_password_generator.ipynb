{
 "cells": [
  {
   "cell_type": "code",
   "execution_count": 2,
   "metadata": {},
   "outputs": [
    {
     "name": "stdout",
     "output_type": "stream",
     "text": [
      "?\\$LqeQT2;|2H7x\n"
     ]
    }
   ],
   "source": [
    "#Importing the modules\n",
    "import random\n",
    "import string\n",
    "\n",
    "#Assinging variables\n",
    "letters = string.ascii_letters\n",
    "numbers = string.digits\n",
    "symbols = string.punctuation\n",
    "\n",
    "#Combining all the above string functions into the variable called characters\n",
    "characters = letters + numbers + symbols\n",
    "pwd  = \"\"\n",
    "\n",
    "#Taking the user input for the length to generate password\n",
    "n = int(input(\"Enter the number of characters to generate your random password:\"))\n",
    "\n",
    "#Random characters from the list comprehenion is joined using join function into the variable pwd\n",
    "pwd+= \"\".join([random.choice(characters) for i in range(n)])\n",
    "\n",
    "#Printing the output\n",
    "print(pwd)\n"
   ]
  }
 ],
 "metadata": {
  "kernelspec": {
   "display_name": "Python 3",
   "language": "python",
   "name": "python3"
  },
  "language_info": {
   "codemirror_mode": {
    "name": "ipython",
    "version": 3
   },
   "file_extension": ".py",
   "mimetype": "text/x-python",
   "name": "python",
   "nbconvert_exporter": "python",
   "pygments_lexer": "ipython3",
   "version": "3.12.2"
  }
 },
 "nbformat": 4,
 "nbformat_minor": 2
}
