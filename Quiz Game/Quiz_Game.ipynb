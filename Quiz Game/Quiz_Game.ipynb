{
 "cells": [
  {
   "cell_type": "code",
   "execution_count": 7,
   "metadata": {},
   "outputs": [
    {
     "name": "stdout",
     "output_type": "stream",
     "text": [
      "Welcome to the World Of Quiz\n",
      "-------------------------------\n",
      "You're in to the World Of Quiz\n",
      "-------------------------------\n",
      "The answer is : 'No'\n",
      "The answer is : 'Object Oriented Programming Language'\n",
      "The answer is : 'Hyper Text Markup Language'\n",
      "The answer is : 'Structured Query Language'\n",
      "You scored 0 Out of 4\n"
     ]
    }
   ],
   "source": [
    "print(\"Welcome to the World Of Quiz\")\n",
    "print(\"-------------------------------\")\n",
    "\n",
    "\n",
    "\n",
    "def outer(func):\n",
    "    n = input(\"Wanna play? Yes/No\")\n",
    "    if n.lower() != 'yes':\n",
    "        print(\"Thank you, Better luck next time !\")\n",
    "    else:\n",
    "        print(\"You're in to the World Of Quiz\")\n",
    "        print(\"-------------------------------\")\n",
    "        func()\n",
    "\n",
    "\n",
    "@outer\n",
    "def inner():\n",
    "    score=0\n",
    "    q1= input(\"Is python only a programming language? \").lower()\n",
    "\n",
    "    if q1 == \"no\":\n",
    "        print(\"Excellent\")\n",
    "        score+=1\n",
    "\n",
    "    else:\n",
    "        print(\"The answer is : 'No'\")\n",
    "\n",
    "    q2 = input('What is OOPS mean? ').lower()\n",
    "    if q2.replace(\" \", \"\") == \"objectorientedprogramminglanguage\":\n",
    "        print(\"Sweet\")\n",
    "        score+=1\n",
    "    else:\n",
    "        print(\"The answer is : 'Object Oriented Programming Language'\")\n",
    "\n",
    "\n",
    "    q3 = input('What does HTML stands for? ').lower()\n",
    "    if q3.replace(' ','') == \"hypertextmarkuplanguage\":\n",
    "        print(\"Great Work\")\n",
    "        score+=1\n",
    "    else:\n",
    "        print(\"The answer is : 'Hyper Text Markup Language'\")\n",
    "\n",
    "    q4 = input('What does SQL stands for? ').lower()\n",
    "    if q4.replace(\" \",\"\") == \"structuredquerylanguage\":\n",
    "        print(\"On The Mark\")\n",
    "        score+=1\n",
    "    else:\n",
    "        print(\"The answer is : 'Structured Query Language'\")\n",
    "\n",
    "    print(f\"You scored {score} Out of 4\")\n"
   ]
  }
 ],
 "metadata": {
  "kernelspec": {
   "display_name": "Python 3",
   "language": "python",
   "name": "python3"
  },
  "language_info": {
   "codemirror_mode": {
    "name": "ipython",
    "version": 3
   },
   "file_extension": ".py",
   "mimetype": "text/x-python",
   "name": "python",
   "nbconvert_exporter": "python",
   "pygments_lexer": "ipython3",
   "version": "3.12.2"
  }
 },
 "nbformat": 4,
 "nbformat_minor": 2
}
